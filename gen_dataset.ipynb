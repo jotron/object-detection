{
 "cells": [
  {
   "cell_type": "code",
   "execution_count": 47,
   "metadata": {},
   "outputs": [],
   "source": [
    "import pandas as pd\n",
    "import os\n",
    "from PIL import Image, ImageDraw\n",
    "\n",
    "# 2_train-val_1min_after_goal, 1_train-val_1min_aalesund_from_start\n",
    "images_path = \"datasets/raw/1_train-val_1min_aalesund_from_start/images\"\n",
    "labels_path = \"datasets/raw/1_train-val_1min_aalesund_from_start/labels\"\n",
    "gt_path = \"RBK_TDT17/1_train-val_1min_aalesund_from_start/gt/gt.txt\"\n"
   ]
  },
  {
   "cell_type": "code",
   "execution_count": 48,
   "metadata": {},
   "outputs": [],
   "source": [
    "data = pd.read_csv(gt_path, header=None, names=[\"img\", \"id\", \"x\", \"y\", \"width\", \"height\", \"?1\", \"label\", \"?2\"])\n"
   ]
  },
  {
   "cell_type": "code",
   "execution_count": 49,
   "metadata": {},
   "outputs": [],
   "source": [
    "for file_name in os.listdir(images_path):\n",
    "    with Image.open(images_path + \"/\" + file_name) as img:\n",
    "        width, height = img.size\n",
    "\n",
    "    base = file_name.split('.')[0]\n",
    "    label_path = labels_path + \"/\" + file_name.split('.')[0] + \".txt\"\n",
    "    with open(label_path, 'w') as file:\n",
    "        number = int(base)\n",
    "        for index, row in data[data.img==number].iterrows():\n",
    "            file.write(f\"{int(row.label-1)} {(row.x+row.width/2.0)/width} {(row.y+row.height/2.0)/height} {row.width/width} {row.height/height}\\n\")"
   ]
  },
  {
   "cell_type": "code",
   "execution_count": 36,
   "metadata": {},
   "outputs": [
    {
     "name": "stdout",
     "output_type": "stream",
     "text": [
      "Output saved to imagex.jpg\n"
     ]
    }
   ],
   "source": [
    "imagex_path = \"datasets/raw/1_train-val_1min_aalesund_from_start/images/000002.jpg\"\n",
    "labelx_path = \"datasets/raw/1_train-val_1min_aalesund_from_start/labels/000002.txt\"\n",
    "output_path = \"imagex.jpg\"\n",
    "boxes = pd.read_csv(labelx_path, header=None, names=[\"class\", \"x\", \"y\", \"width\", \"height\"], sep=\" \")\n",
    "with Image.open(imagex_path) as img:\n",
    "        draw = ImageDraw.Draw(img)\n",
    "        img_width, img_height = img.size\n",
    "\n",
    "        # Iterate through the bounding boxes\n",
    "        for index, box in boxes.iterrows():\n",
    "            \n",
    "            # Convert normalized coordinates to pixel coordinates\n",
    "            x_center = box.x * img_width\n",
    "            y_center = box.y * img_height\n",
    "            box_width = box.width * img_width\n",
    "            box_height = box.height * img_height\n",
    "\n",
    "            # Calculate the top-left and bottom-right coordinates of the bounding box\n",
    "            x_min = x_center - box_width / 2\n",
    "            y_min = y_center - box_height / 2\n",
    "            x_max = x_center + box_width / 2\n",
    "            y_max = y_center + box_height / 2\n",
    "\n",
    "            # Draw the rectangle\n",
    "            draw.rectangle([x_min, y_min, x_max, y_max], outline=\"red\", width=3)\n",
    "\n",
    "        # Save the image with bounding boxes\n",
    "        img.save(output_path)\n",
    "        print(f\"Output saved to {output_path}\")\n"
   ]
  },
  {
   "cell_type": "code",
   "execution_count": null,
   "metadata": {},
   "outputs": [],
   "source": []
  }
 ],
 "metadata": {
  "kernelspec": {
   "display_name": "visual",
   "language": "python",
   "name": "python3"
  },
  "language_info": {
   "codemirror_mode": {
    "name": "ipython",
    "version": 3
   },
   "file_extension": ".py",
   "mimetype": "text/x-python",
   "name": "python",
   "nbconvert_exporter": "python",
   "pygments_lexer": "ipython3",
   "version": "3.9.20"
  }
 },
 "nbformat": 4,
 "nbformat_minor": 2
}
